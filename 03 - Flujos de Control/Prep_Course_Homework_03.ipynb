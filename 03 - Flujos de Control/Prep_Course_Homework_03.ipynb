{
 "cells": [
  {
   "attachments": {},
   "cell_type": "markdown",
   "metadata": {},
   "source": [
    "1) Crear una variable que contenga un elemento del conjunto de números enteros y luego imprimir por pantalla si es mayor o menor a cero"
   ]
  },
  {
   "cell_type": "code",
   "execution_count": 102,
   "metadata": {},
   "outputs": [],
   "source": [
    "var = 2"
   ]
  },
  {
   "cell_type": "code",
   "execution_count": 103,
   "metadata": {},
   "outputs": [
    {
     "name": "stdout",
     "output_type": "stream",
     "text": [
      "La variable es mayor que cero\n"
     ]
    }
   ],
   "source": [
    "if (var < 0):\n",
    "    print (\"La variable es menor que cero\")\n",
    "elif (var > 0):\n",
    "    print (\"La variable es mayor que cero\")\n",
    "else:\n",
    "    print (\"La variable es cero\")"
   ]
  },
  {
   "attachments": {},
   "cell_type": "markdown",
   "metadata": {},
   "source": [
    "2) Crear dos variables y un condicional que informe si son del mismo tipo de dato"
   ]
  },
  {
   "cell_type": "code",
   "execution_count": 27,
   "metadata": {},
   "outputs": [],
   "source": [
    "var1 = 22\n",
    "var2 = \"Hola\""
   ]
  },
  {
   "cell_type": "code",
   "execution_count": 28,
   "metadata": {},
   "outputs": [
    {
     "name": "stdout",
     "output_type": "stream",
     "text": [
      "La varibales son de distinto tipo\n"
     ]
    }
   ],
   "source": [
    "if (type(var1) == type(var2)):\n",
    "    print (\"La varibales son del mismo tipo\")\n",
    "else:\n",
    "    print (\"La varibales son de distinto tipo\")"
   ]
  },
  {
   "attachments": {},
   "cell_type": "markdown",
   "metadata": {},
   "source": [
    "3) Para los valores enteros del 1 al 20, imprimir por pantalla si es par o impar"
   ]
  },
  {
   "cell_type": "code",
   "execution_count": 105,
   "metadata": {},
   "outputs": [
    {
     "name": "stdout",
     "output_type": "stream",
     "text": [
      "1  es inpar\n",
      "2  es par\n",
      "3  es inpar\n",
      "4  es par\n",
      "5  es inpar\n",
      "6  es par\n",
      "7  es inpar\n",
      "8  es par\n",
      "9  es inpar\n",
      "10  es par\n",
      "11  es inpar\n",
      "12  es par\n",
      "13  es inpar\n",
      "14  es par\n",
      "15  es inpar\n",
      "16  es par\n",
      "17  es inpar\n",
      "18  es par\n",
      "19  es inpar\n",
      "20  es par\n"
     ]
    }
   ],
   "source": [
    "#Si es par el resto de la division es cero. Ej.: 4%2=0\n",
    "#A veces hay que poner print(str(n)) para que lo tome\n",
    "for n in range (1,21):\n",
    "    if (n%2 == 0):\n",
    "        print (n, \" es par\")\n",
    "    else:\n",
    "        print (n, \" es inpar\")"
   ]
  },
  {
   "attachments": {},
   "cell_type": "markdown",
   "metadata": {},
   "source": [
    "4) En un ciclo for mostrar para los valores entre 0 y 5 el resultado de elevarlo a la potencia igual a 3"
   ]
  },
  {
   "cell_type": "code",
   "execution_count": 106,
   "metadata": {},
   "outputs": [
    {
     "name": "stdout",
     "output_type": "stream",
     "text": [
      "0  a la 3 es  0\n",
      "1  a la 3 es  1\n",
      "2  a la 3 es  8\n",
      "3  a la 3 es  27\n",
      "4  a la 3 es  64\n",
      "5  a la 3 es  125\n"
     ]
    }
   ],
   "source": [
    "#Si para imprimir concateno la frase con + en vez de (,) tengo que poner str()\n",
    "#para convertir mi dato a un string\n",
    "for n in range (0,6):\n",
    "    print (n, \" a la 3 es \", n**3)\n",
    "    #print (str(n) + ' elevado a la 3 es: ' + str(n**3))"
   ]
  },
  {
   "attachments": {},
   "cell_type": "markdown",
   "metadata": {},
   "source": [
    "5) Crear una variable que contenga un número entero y realizar un ciclo for la misma cantidad de ciclos"
   ]
  },
  {
   "cell_type": "code",
   "execution_count": 60,
   "metadata": {},
   "outputs": [
    {
     "name": "stdout",
     "output_type": "stream",
     "text": [
      "2\n"
     ]
    }
   ],
   "source": [
    "#el pas sirve para pasar y no hacer nada\n",
    "#adentro del 'for' tengo que dar una instruccion si o si\n",
    "var = 3\n",
    "for n in range (var):\n",
    "    pass\n",
    "print (n)"
   ]
  },
  {
   "attachments": {},
   "cell_type": "markdown",
   "metadata": {},
   "source": [
    "6) Utilizar un ciclo while para realizar el factorial de un número guardado en una variable, sólo si la variable contiene un número entero mayor a 0"
   ]
  },
  {
   "cell_type": "code",
   "execution_count": 114,
   "metadata": {},
   "outputs": [
    {
     "name": "stdout",
     "output_type": "stream",
     "text": [
      "El factorial de  5 es:  120\n"
     ]
    }
   ],
   "source": [
    "# Factorial de 5 = 5*4*3*2*1 = 120\n",
    "# Es importante poner primero el if que determina si es entero, sino error\n",
    "\n",
    "n = 5\n",
    "n_original = n\n",
    "if (type(n) == int):\n",
    "    if (n >= 0):\n",
    "        factorial = n\n",
    "        while (n>1):\n",
    "            n = n-1\n",
    "            factorial = factorial * n\n",
    "        print (\"El factorial de \",n_original, \"es: \", factorial)\n",
    "    else:\n",
    "        print(\"La variable es un numero negativo \")\n",
    "else:\n",
    "    print(\"La variable es un numero no entero\")"
   ]
  },
  {
   "cell_type": "code",
   "execution_count": 61,
   "metadata": {},
   "outputs": [
    {
     "name": "stdout",
     "output_type": "stream",
     "text": [
      "el factorial de 5 es 120\n"
     ]
    }
   ],
   "source": [
    "#Asi puedo saber cual es la condicion que no se cumple\n",
    "n=5\n",
    "factorial=1\n",
    "if (type(n)==int):\n",
    "    if (n>0):\n",
    "        n_origin=n\n",
    "        while(n>1):\n",
    "            factorial=factorial*n\n",
    "            n=n-1\n",
    "        print('el factorial de', n_origin, 'es', factorial)\n",
    "    else:\n",
    "        print('la variable no es mayor a cero')\n",
    "else:\n",
    "    print('la variable no es un numero entero')"
   ]
  },
  {
   "attachments": {},
   "cell_type": "markdown",
   "metadata": {},
   "source": [
    "7) Crear un ciclo for dentro de un ciclo while"
   ]
  },
  {
   "cell_type": "code",
   "execution_count": 115,
   "metadata": {},
   "outputs": [
    {
     "name": "stdout",
     "output_type": "stream",
     "text": [
      "ciclo while numero:  1\n",
      "For numero:  0\n",
      "For numero:  1\n",
      "For numero:  2\n",
      "ciclo while numero:  2\n",
      "For numero:  0\n",
      "For numero:  1\n",
      "For numero:  2\n",
      "ciclo while numero:  3\n",
      "For numero:  0\n",
      "For numero:  1\n",
      "For numero:  2\n",
      "ciclo while numero:  4\n",
      "For numero:  0\n",
      "For numero:  1\n",
      "For numero:  2\n"
     ]
    }
   ],
   "source": [
    "n = 0\n",
    "while (n < 4):\n",
    "    n += 1\n",
    "    print(\"ciclo while numero: \", n)\n",
    "    for i in range (0,3):\n",
    "        print (\"For numero: \",i)"
   ]
  },
  {
   "attachments": {},
   "cell_type": "markdown",
   "metadata": {},
   "source": [
    "8) Crear un ciclo while dentro de un ciclo for"
   ]
  },
  {
   "cell_type": "code",
   "execution_count": 116,
   "metadata": {},
   "outputs": [
    {
     "name": "stdout",
     "output_type": "stream",
     "text": [
      "For numero:  0\n",
      "While numero:  1\n",
      "While numero:  2\n",
      "While numero:  3\n",
      "While numero:  4\n",
      "While numero:  5\n",
      "For numero:  1\n",
      "For numero:  2\n",
      "For numero:  3\n"
     ]
    }
   ],
   "source": [
    "x = 0\n",
    "for n in range (0,4):\n",
    "    print (\"For numero: \", n)\n",
    "    while (x<5):\n",
    "        x += 1\n",
    "        print (\"While numero: \", x)\n",
    "        "
   ]
  },
  {
   "attachments": {},
   "cell_type": "markdown",
   "metadata": {},
   "source": [
    "9) Imprimir los números primos existentes entre 0 y 30"
   ]
  },
  {
   "cell_type": "code",
   "execution_count": 123,
   "metadata": {},
   "outputs": [
    {
     "name": "stdout",
     "output_type": "stream",
     "text": [
      "0 es primo\n",
      "1 es primo\n",
      "2 es primo\n",
      "3 es primo\n",
      "5 es primo\n",
      "7 es primo\n",
      "11 es primo\n",
      "13 es primo\n",
      "17 es primo\n",
      "19 es primo\n",
      "23 es primo\n",
      "29 es primo\n"
     ]
    }
   ],
   "source": [
    "#Numero primos: solo se dividen por si mismos y por 1: 2, 3, 5, 7, 11, 13, 17, 19, 23, 29\n",
    "\n",
    "n = 0\n",
    "primo = True\n",
    "for i in range (0,31):\n",
    "    for i in range (2,n):\n",
    "        if (n % i == 0):\n",
    "            primo = False\n",
    "    if (primo):\n",
    "        print(n, \"es primo\")\n",
    "    else:\n",
    "        primo = True\n",
    "    n += 1"
   ]
  },
  {
   "cell_type": "code",
   "execution_count": 124,
   "metadata": {},
   "outputs": [
    {
     "name": "stdout",
     "output_type": "stream",
     "text": [
      "0 es primo\n",
      "1 es primo\n",
      "2 es primo\n",
      "3 es primo\n",
      "5 es primo\n",
      "7 es primo\n",
      "11 es primo\n",
      "13 es primo\n",
      "17 es primo\n",
      "19 es primo\n",
      "23 es primo\n",
      "29 es primo\n"
     ]
    }
   ],
   "source": [
    "maximo = 30\n",
    "n = 0\n",
    "primo = True\n",
    "while (n < maximo):\n",
    "    for i in range (2,n):\n",
    "        if (n % i == 0):\n",
    "            primo = False\n",
    "    if (primo == True):\n",
    "        print(n, \"es primo\")\n",
    "    else:\n",
    "        primo = True\n",
    "    n += 1"
   ]
  },
  {
   "attachments": {},
   "cell_type": "markdown",
   "metadata": {},
   "source": [
    "10) ¿Se puede mejorar el proceso del punto 9? Utilizar las sentencias break y/ó continue para tal fin"
   ]
  },
  {
   "cell_type": "code",
   "execution_count": 125,
   "metadata": {},
   "outputs": [
    {
     "name": "stdout",
     "output_type": "stream",
     "text": [
      "0 es primo\n",
      "1 es primo\n",
      "2 es primo\n",
      "3 es primo\n",
      "5 es primo\n",
      "7 es primo\n",
      "11 es primo\n",
      "13 es primo\n",
      "17 es primo\n",
      "19 es primo\n",
      "23 es primo\n",
      "29 es primo\n"
     ]
    }
   ],
   "source": [
    "# el break me conta el ciclo\n",
    "# ya que con que un resto sea igual a cero ya se que no es primo\n",
    "#no sigo iterando al vicio, uso break y corto el ciclo \n",
    "\n",
    "maximo = 30\n",
    "n = 0\n",
    "primo = True\n",
    "while (n < maximo):\n",
    "    for div in range(2, n):\n",
    "        if (n % div == 0):\n",
    "            primo = False\n",
    "            break\n",
    "    if (primo):\n",
    "        print(n, \"es primo\")\n",
    "    else:\n",
    "        primo = True\n",
    "    n += 1"
   ]
  },
  {
   "attachments": {},
   "cell_type": "markdown",
   "metadata": {},
   "source": [
    "11) En los puntos 9 y 10, se diseño un código que encuentra números primos y además se lo optimizó. ¿Es posible saber en qué medida se optimizó?"
   ]
  },
  {
   "cell_type": "code",
   "execution_count": 68,
   "metadata": {},
   "outputs": [
    {
     "name": "stdout",
     "output_type": "stream",
     "text": [
      "0\n",
      "1\n",
      "2\n",
      "3\n",
      "5\n",
      "7\n",
      "11\n",
      "13\n",
      "17\n",
      "19\n",
      "23\n",
      "29\n",
      "46  ciclos\n"
     ]
    }
   ],
   "source": [
    "#Contabilizando los ciclos con y sin break se puede ver la optimizacion \n",
    "#Viendo el tiempo que tarda en resolverlo, cuando n es mas grande la diferencia es mayor\n",
    "\n",
    "ciclo = 0\n",
    "maximo = 30\n",
    "n = 0\n",
    "primo = True\n",
    "while (n < maximo):\n",
    "    for div in range(2, n):\n",
    "        if (n % div == 0):\n",
    "            primo = False\n",
    "            ciclo += 1\n",
    "            #break\n",
    "    if (primo):\n",
    "        print(n)\n",
    "    else:\n",
    "        primo = True\n",
    "    n += 1\n",
    "print (ciclo, \" ciclos\")"
   ]
  },
  {
   "attachments": {},
   "cell_type": "markdown",
   "metadata": {},
   "source": [
    "12) Si la cantidad de números que se evalúa es mayor a treinta, esa optimización crece?"
   ]
  },
  {
   "cell_type": "code",
   "execution_count": null,
   "metadata": {},
   "outputs": [],
   "source": [
    "# cuando n es mas grande la diferencia y optimizacion es mayor"
   ]
  },
  {
   "attachments": {},
   "cell_type": "markdown",
   "metadata": {},
   "source": [
    "13) Aplicando continue, armar un ciclo while que solo imprima los valores divisibles por 12, dentro del rango de números de 100 a 300"
   ]
  },
  {
   "cell_type": "code",
   "execution_count": 133,
   "metadata": {},
   "outputs": [
    {
     "name": "stdout",
     "output_type": "stream",
     "text": [
      "108 es divisible por 12\n",
      "120 es divisible por 12\n",
      "132 es divisible por 12\n",
      "144 es divisible por 12\n",
      "156 es divisible por 12\n",
      "168 es divisible por 12\n",
      "180 es divisible por 12\n",
      "192 es divisible por 12\n",
      "204 es divisible por 12\n",
      "216 es divisible por 12\n",
      "228 es divisible por 12\n",
      "240 es divisible por 12\n",
      "252 es divisible por 12\n",
      "264 es divisible por 12\n",
      "276 es divisible por 12\n",
      "288 es divisible por 12\n",
      "300 es divisible por 12\n"
     ]
    }
   ],
   "source": [
    "#con ciclo while\n",
    "# uso continue para que avance y pruebe con el proximo numero\n",
    "\n",
    "n = 99\n",
    "while (n<300):\n",
    "    n += 1\n",
    "    if (n%12 != 0):\n",
    "        continue\n",
    "    print (n, \"es divisible por 12\")"
   ]
  },
  {
   "cell_type": "code",
   "execution_count": 128,
   "metadata": {},
   "outputs": [
    {
     "name": "stdout",
     "output_type": "stream",
     "text": [
      "108 es divisible por 12\n",
      "120 es divisible por 12\n",
      "132 es divisible por 12\n",
      "144 es divisible por 12\n",
      "156 es divisible por 12\n",
      "168 es divisible por 12\n",
      "180 es divisible por 12\n",
      "192 es divisible por 12\n",
      "204 es divisible por 12\n",
      "216 es divisible por 12\n",
      "228 es divisible por 12\n",
      "240 es divisible por 12\n",
      "252 es divisible por 12\n",
      "264 es divisible por 12\n",
      "276 es divisible por 12\n",
      "288 es divisible por 12\n",
      "300 es divisible por 12\n"
     ]
    }
   ],
   "source": [
    "# con ciclo for\n",
    "\n",
    "for n in range (100,301):\n",
    "    if (n%12 != 0):\n",
    "        continue\n",
    "    print (n, \"es divisible por 12\")"
   ]
  },
  {
   "attachments": {},
   "cell_type": "markdown",
   "metadata": {},
   "source": [
    "14) Utilizar la función **input()** que permite hacer ingresos por teclado, para encontrar números primos y dar la opción al usario de buscar el siguiente"
   ]
  },
  {
   "cell_type": "code",
   "execution_count": 80,
   "metadata": {},
   "outputs": [
    {
     "name": "stdout",
     "output_type": "stream",
     "text": [
      "56\n"
     ]
    }
   ],
   "source": [
    "#input() es una entrada por teclado\n",
    "#Ej n=input('ingrese valor') Queda guadado en n\n",
    "#print(n)\n",
    "\n",
    "n=input('Ingrese un valor')\n",
    "print(n)"
   ]
  },
  {
   "cell_type": "code",
   "execution_count": 92,
   "metadata": {},
   "outputs": [
    {
     "name": "stdout",
     "output_type": "stream",
     "text": [
      "7  es un numero primo\n"
     ]
    }
   ],
   "source": [
    "n=7\n",
    "for i in range (2,n):\n",
    "    if (n % i == 0):\n",
    "        break\n",
    "    else:\n",
    "        print (n, \" es un numero primo\")\n",
    "        break"
   ]
  },
  {
   "cell_type": "code",
   "execution_count": 137,
   "metadata": {},
   "outputs": [
    {
     "name": "stdout",
     "output_type": "stream",
     "text": [
      "1\n",
      "¿Desea encontrar el siguiente número primo?\n",
      "Se finaliza el proceso\n"
     ]
    }
   ],
   "source": [
    "#Este esta bien y completo\n",
    "\n",
    "n = 1\n",
    "sigue = 1\n",
    "primo = True\n",
    "while (sigue == 1):\n",
    "    for div in range(2, n):\n",
    "        if (n % div == 0):\n",
    "            primo = False\n",
    "            break\n",
    "    if (primo):\n",
    "        print(n)\n",
    "        print('¿Desea encontrar el siguiente número primo?')\n",
    "        if (input() != '1'):\n",
    "            print('Se finaliza el proceso')\n",
    "            break\n",
    "    else:\n",
    "        primo = True\n",
    "    n += 1"
   ]
  },
  {
   "attachments": {},
   "cell_type": "markdown",
   "metadata": {},
   "source": [
    "15) Crear un ciclo while que encuentre dentro del rango de 100 a 300 el primer número divisible por 3 y además múltiplo de 6"
   ]
  },
  {
   "cell_type": "code",
   "execution_count": 99,
   "metadata": {},
   "outputs": [
    {
     "name": "stdout",
     "output_type": "stream",
     "text": [
      "108  es divisible por 3 y multiplo de 6\n"
     ]
    }
   ],
   "source": [
    "n = 103\n",
    "while (n <= 300):\n",
    "    if (n%3 == 0 and n%6 == 0):\n",
    "        print (n, \" es divisible por 3 y multiplo de 6\")\n",
    "        break\n",
    "    n += 1"
   ]
  }
 ],
 "metadata": {
  "kernelspec": {
   "display_name": "Python 3",
   "language": "python",
   "name": "python3"
  },
  "language_info": {
   "codemirror_mode": {
    "name": "ipython",
    "version": 3
   },
   "file_extension": ".py",
   "mimetype": "text/x-python",
   "name": "python",
   "nbconvert_exporter": "python",
   "pygments_lexer": "ipython3",
   "version": "3.10.3"
  },
  "orig_nbformat": 4
 },
 "nbformat": 4,
 "nbformat_minor": 2
}
