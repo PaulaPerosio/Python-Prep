{
 "cells": [
  {
   "cell_type": "code",
   "execution_count": 2,
   "metadata": {},
   "outputs": [
    {
     "ename": "ValueError",
     "evalue": "'Cordoba' is not in list",
     "output_type": "error",
     "traceback": [
      "\u001b[1;31m---------------------------------------------------------------------------\u001b[0m",
      "\u001b[1;31mValueError\u001b[0m                                Traceback (most recent call last)",
      "\u001b[1;32mc:\\Users\\peros\\OneDrive\\Documentos\\Henry\\Python-Prep\\04 - Estructuras de datos\\Prep_Course_Homework_04.ipynb Cell 1\u001b[0m in \u001b[0;36m<cell line: 13>\u001b[1;34m()\u001b[0m\n\u001b[0;32m     <a href='vscode-notebook-cell:/c%3A/Users/peros/OneDrive/Documentos/Henry/Python-Prep/04%20-%20Estructuras%20de%20datos/Prep_Course_Homework_04.ipynb#W0sZmlsZQ%3D%3D?line=9'>10</a>\u001b[0m lista\u001b[39m.\u001b[39mextend ([\u001b[39m\"\u001b[39m\u001b[39mBrucelas\u001b[39m\u001b[39m\"\u001b[39m, \u001b[39m\"\u001b[39m\u001b[39mBariloche\u001b[39m\u001b[39m\"\u001b[39m])\n\u001b[0;32m     <a href='vscode-notebook-cell:/c%3A/Users/peros/OneDrive/Documentos/Henry/Python-Prep/04%20-%20Estructuras%20de%20datos/Prep_Course_Homework_04.ipynb#W0sZmlsZQ%3D%3D?line=11'>12</a>\u001b[0m \u001b[39m#para saber ubicacion\u001b[39;00m\n\u001b[1;32m---> <a href='vscode-notebook-cell:/c%3A/Users/peros/OneDrive/Documentos/Henry/Python-Prep/04%20-%20Estructuras%20de%20datos/Prep_Course_Homework_04.ipynb#W0sZmlsZQ%3D%3D?line=12'>13</a>\u001b[0m lista\u001b[39m.\u001b[39;49mindex(\u001b[39m\"\u001b[39;49m\u001b[39mCordoba\u001b[39;49m\u001b[39m\"\u001b[39;49m)\n\u001b[0;32m     <a href='vscode-notebook-cell:/c%3A/Users/peros/OneDrive/Documentos/Henry/Python-Prep/04%20-%20Estructuras%20de%20datos/Prep_Course_Homework_04.ipynb#W0sZmlsZQ%3D%3D?line=14'>15</a>\u001b[0m \u001b[39m#para quitar algo\u001b[39;00m\n\u001b[0;32m     <a href='vscode-notebook-cell:/c%3A/Users/peros/OneDrive/Documentos/Henry/Python-Prep/04%20-%20Estructuras%20de%20datos/Prep_Course_Homework_04.ipynb#W0sZmlsZQ%3D%3D?line=15'>16</a>\u001b[0m lista\u001b[39m.\u001b[39mremove (\u001b[39m\"\u001b[39m\u001b[39mLondres\u001b[39m\u001b[39m\"\u001b[39m)\n",
      "\u001b[1;31mValueError\u001b[0m: 'Cordoba' is not in list"
     ]
    }
   ],
   "source": [
    "lista = [3,44,5]\n",
    "\n",
    "# para agregar\n",
    "lista.append(\"Neuquen\")\n",
    "\n",
    "#para agregar en posicion definida\n",
    "lista.insert(2,\"Madris\")\n",
    "\n",
    "#para agregar otro pedazo de lista\n",
    "lista.extend ([\"Brucelas\", \"Bariloche\"])\n",
    "\n",
    "#para saber ubicacion\n",
    "lista.index(\"Cordoba\")\n",
    "\n",
    "#para quitar algo\n",
    "lista.remove (\"Londres\")\n",
    "\n",
    "#para quitar el ultimo\n",
    "lista.pop()\n",
    "\n",
    "#para ordenar\n",
    "lista.sort()\n",
    "\n",
    "#para ordenar al reves\n",
    "lista.sort(reverse=True)\n",
    "\n",
    "#para encontar\n",
    "20 in lista\n",
    "\n",
    "#para contar cuantos hay\n",
    "lista.count(\"Paris\")\n",
    "\n",
    "#para ver un elemento x en la posicion 1\n",
    "lista[1]\n",
    "\n",
    "#para ver la longitud\n",
    "len(lista)"
   ]
  },
  {
   "attachments": {},
   "cell_type": "markdown",
   "metadata": {},
   "source": [
    "1) Crear una lista que contenga nombres de ciudades del mundo que contenga más de 5 elementos e imprimir por pantalla"
   ]
  },
  {
   "cell_type": "code",
   "execution_count": 3,
   "metadata": {},
   "outputs": [
    {
     "name": "stdout",
     "output_type": "stream",
     "text": [
      "['Paris', 'Cordoba', 'Londres', 'Mexico', 'Mendoza']\n"
     ]
    }
   ],
   "source": [
    "ciudades = [\"Paris\",\"Cordoba\",\"Londres\",\"Mexico\",\"Mendoza\"]\n",
    "print (ciudades)"
   ]
  },
  {
   "attachments": {},
   "cell_type": "markdown",
   "metadata": {},
   "source": [
    "2) Imprimir por pantalla el segundo elemento de la lista"
   ]
  },
  {
   "cell_type": "code",
   "execution_count": null,
   "metadata": {},
   "outputs": [
    {
     "name": "stdout",
     "output_type": "stream",
     "text": [
      "Cordoba\n"
     ]
    }
   ],
   "source": [
    "print (ciudades[1])"
   ]
  },
  {
   "attachments": {},
   "cell_type": "markdown",
   "metadata": {},
   "source": [
    "3) Imprimir por pantalla del segundo al cuarto elemento"
   ]
  },
  {
   "cell_type": "code",
   "execution_count": null,
   "metadata": {},
   "outputs": [
    {
     "name": "stdout",
     "output_type": "stream",
     "text": [
      "['Cordoba', 'Londres', 'Mexico']\n"
     ]
    }
   ],
   "source": [
    "print (ciudades[1:4])"
   ]
  },
  {
   "attachments": {},
   "cell_type": "markdown",
   "metadata": {},
   "source": [
    "4) Visualizar el tipo de dato de la lista"
   ]
  },
  {
   "cell_type": "code",
   "execution_count": null,
   "metadata": {},
   "outputs": [
    {
     "name": "stdout",
     "output_type": "stream",
     "text": [
      "<class 'list'>\n"
     ]
    },
    {
     "data": {
      "text/plain": [
       "list"
      ]
     },
     "execution_count": 14,
     "metadata": {},
     "output_type": "execute_result"
    }
   ],
   "source": [
    "print(type(ciudades))\n",
    "type (ciudades)"
   ]
  },
  {
   "attachments": {},
   "cell_type": "markdown",
   "metadata": {},
   "source": [
    "5) Visualizar todos los elementos de la lista a partir del tercero de manera genérica, es decir, sin explicitar la posición del último elemento"
   ]
  },
  {
   "cell_type": "code",
   "execution_count": null,
   "metadata": {},
   "outputs": [
    {
     "name": "stdout",
     "output_type": "stream",
     "text": [
      "['Londres', 'Mexico', 'Mendoza']\n"
     ]
    }
   ],
   "source": [
    "print (ciudades[2:])"
   ]
  },
  {
   "attachments": {},
   "cell_type": "markdown",
   "metadata": {},
   "source": [
    "6) Visualizar los primeros 4 elementos de la lista"
   ]
  },
  {
   "cell_type": "code",
   "execution_count": null,
   "metadata": {},
   "outputs": [
    {
     "name": "stdout",
     "output_type": "stream",
     "text": [
      "['Paris', 'Cordoba', 'Londres', 'Mexico']\n"
     ]
    }
   ],
   "source": [
    "print (ciudades[:4])"
   ]
  },
  {
   "attachments": {},
   "cell_type": "markdown",
   "metadata": {},
   "source": [
    "7) Agregar una ciudad más a la lista que ya exista y otra que no ¿Arroja algún tipo de error?"
   ]
  },
  {
   "cell_type": "code",
   "execution_count": 4,
   "metadata": {},
   "outputs": [
    {
     "name": "stdout",
     "output_type": "stream",
     "text": [
      "['Paris', 'Cordoba', 'Londres', 'Mexico', 'Mendoza', 'Neuquen', 'Cordoba']\n"
     ]
    }
   ],
   "source": [
    "#agregar de a una\n",
    "\n",
    "ciudades.append(\"Neuquen\")\n",
    "ciudades.append(\"Cordoba\")\n",
    "print (ciudades)"
   ]
  },
  {
   "attachments": {},
   "cell_type": "markdown",
   "metadata": {},
   "source": [
    "8) Agregar otra ciudad, pero en la cuarta posición"
   ]
  },
  {
   "cell_type": "code",
   "execution_count": null,
   "metadata": {},
   "outputs": [
    {
     "name": "stdout",
     "output_type": "stream",
     "text": [
      "['Paris', 'Cordoba', 'Madris', 'Londres', 'Mexico', 'Mendoza', 'Neuquen', 'Cordoba']\n"
     ]
    }
   ],
   "source": [
    "#insert va si o si con dos argumentos\n",
    "\n",
    "ciudades.insert(2,\"Madris\")\n",
    "print (ciudades)"
   ]
  },
  {
   "attachments": {},
   "cell_type": "markdown",
   "metadata": {},
   "source": [
    "9) Concatenar otra lista a la ya creada"
   ]
  },
  {
   "cell_type": "code",
   "execution_count": 5,
   "metadata": {},
   "outputs": [
    {
     "name": "stdout",
     "output_type": "stream",
     "text": [
      "['Paris', 'Cordoba', 'Londres', 'Mexico', 'Mendoza', 'Neuquen', 'Cordoba', 'Brucelas', 'Bariloche']\n"
     ]
    }
   ],
   "source": [
    "ciudades.extend ([\"Brucelas\", \"Bariloche\"])\n",
    "print (ciudades)"
   ]
  },
  {
   "attachments": {},
   "cell_type": "markdown",
   "metadata": {},
   "source": [
    "10) Encontrar el índice de la ciudad que en el punto 7 agregamos duplicada. ¿Se nota alguna particularidad?"
   ]
  },
  {
   "cell_type": "code",
   "execution_count": null,
   "metadata": {},
   "outputs": [
    {
     "data": {
      "text/plain": [
       "1"
      ]
     },
     "execution_count": 20,
     "metadata": {},
     "output_type": "execute_result"
    }
   ],
   "source": [
    "#solo muestra el primero\n",
    "\n",
    "ciudades.index(\"Cordoba\")"
   ]
  },
  {
   "attachments": {},
   "cell_type": "markdown",
   "metadata": {},
   "source": [
    "11) ¿Qué pasa si se busca un elemento que no existe?"
   ]
  },
  {
   "cell_type": "code",
   "execution_count": null,
   "metadata": {},
   "outputs": [
    {
     "ename": "ValueError",
     "evalue": "'Cordob' is not in list",
     "output_type": "error",
     "traceback": [
      "\u001b[1;31m---------------------------------------------------------------------------\u001b[0m",
      "\u001b[1;31mValueError\u001b[0m                                Traceback (most recent call last)",
      "\u001b[1;32mc:\\Users\\peros\\OneDrive\\Documentos\\Henry\\Python-Prep\\04 - Estructuras de datos\\Prep_Course_Homework_04.ipynb Cell 23\u001b[0m in \u001b[0;36m<cell line: 1>\u001b[1;34m()\u001b[0m\n\u001b[1;32m----> <a href='vscode-notebook-cell:/c%3A/Users/peros/OneDrive/Documentos/Henry/Python-Prep/04%20-%20Estructuras%20de%20datos/Prep_Course_Homework_04.ipynb#X31sZmlsZQ%3D%3D?line=0'>1</a>\u001b[0m ciudades\u001b[39m.\u001b[39;49mindex(\u001b[39m\"\u001b[39;49m\u001b[39mCordob\u001b[39;49m\u001b[39m\"\u001b[39;49m)\n",
      "\u001b[1;31mValueError\u001b[0m: 'Cordob' is not in list"
     ]
    }
   ],
   "source": [
    "ciudades.index(\"Cordob\")"
   ]
  },
  {
   "attachments": {},
   "cell_type": "markdown",
   "metadata": {},
   "source": [
    "12) Eliminar un elemento de la lista"
   ]
  },
  {
   "cell_type": "code",
   "execution_count": null,
   "metadata": {},
   "outputs": [
    {
     "name": "stdout",
     "output_type": "stream",
     "text": [
      "['Paris', 'Cordoba', 'Madris', 'Londres', 'Mexico', 'Mendoza', 'Neuquen', 'Cordoba', 'Brucelas', 'Bariloche']\n",
      "['Paris', 'Cordoba', 'Madris', 'Mexico', 'Mendoza', 'Neuquen', 'Cordoba', 'Brucelas', 'Bariloche']\n"
     ]
    }
   ],
   "source": [
    "print (ciudades)\n",
    "ciudades.remove (\"Londres\")\n",
    "print (ciudades)"
   ]
  },
  {
   "attachments": {},
   "cell_type": "markdown",
   "metadata": {},
   "source": [
    "14) Extraer el úlimo elemento de la lista, guardarlo en una variable e imprimirlo"
   ]
  },
  {
   "cell_type": "code",
   "execution_count": null,
   "metadata": {},
   "outputs": [
    {
     "name": "stdout",
     "output_type": "stream",
     "text": [
      "Bariloche\n",
      "['Paris', 'Cordoba', 'Madris', 'Mexico', 'Mendoza', 'Neuquen', 'Cordoba', 'Brucelas']\n"
     ]
    }
   ],
   "source": [
    "ultimo=ciudades.pop()\n",
    "print(ultimo)\n",
    "print (ciudades)"
   ]
  },
  {
   "attachments": {},
   "cell_type": "markdown",
   "metadata": {},
   "source": [
    "15) Mostrar la lista multiplicada por 4"
   ]
  },
  {
   "cell_type": "code",
   "execution_count": 6,
   "metadata": {},
   "outputs": [
    {
     "name": "stdout",
     "output_type": "stream",
     "text": [
      "['Paris', 'Cordoba', 'Londres', 'Mexico', 'Mendoza', 'Neuquen', 'Cordoba', 'Brucelas', 'Bariloche', 'Paris', 'Cordoba', 'Londres', 'Mexico', 'Mendoza', 'Neuquen', 'Cordoba', 'Brucelas', 'Bariloche', 'Paris', 'Cordoba', 'Londres', 'Mexico', 'Mendoza', 'Neuquen', 'Cordoba', 'Brucelas', 'Bariloche', 'Paris', 'Cordoba', 'Londres', 'Mexico', 'Mendoza', 'Neuquen', 'Cordoba', 'Brucelas', 'Bariloche']\n",
      "['Bariloche', 'Bariloche', 'Bariloche', 'Bariloche', 'Brucelas', 'Brucelas', 'Brucelas', 'Brucelas', 'Cordoba', 'Cordoba', 'Cordoba', 'Cordoba', 'Cordoba', 'Cordoba', 'Cordoba', 'Cordoba', 'Londres', 'Londres', 'Londres', 'Londres', 'Mendoza', 'Mendoza', 'Mendoza', 'Mendoza', 'Mexico', 'Mexico', 'Mexico', 'Mexico', 'Neuquen', 'Neuquen', 'Neuquen', 'Neuquen', 'Paris', 'Paris', 'Paris', 'Paris']\n"
     ]
    }
   ],
   "source": [
    "lista_larga = (ciudades * 4)\n",
    "print (lista_larga)\n",
    "\n",
    "#acomoda por orden alfabetico\n",
    "lista_larga.sort()\n",
    "print (lista_larga)"
   ]
  },
  {
   "attachments": {},
   "cell_type": "markdown",
   "metadata": {},
   "source": [
    "Extra: Contar cuantas veces esta cada elemento en la lista."
   ]
  },
  {
   "cell_type": "code",
   "execution_count": 8,
   "metadata": {},
   "outputs": [
    {
     "name": "stdout",
     "output_type": "stream",
     "text": [
      "Bariloche se repite  4\n",
      "Brucelas se repite  4\n",
      "Cordoba se repite  8\n",
      "Londres se repite  4\n",
      "Mendoza se repite  4\n",
      "Mexico se repite  4\n",
      "Neuquen se repite  4\n",
      "Paris se repite  4\n"
     ]
    },
    {
     "ename": "IndexError",
     "evalue": "list index out of range",
     "output_type": "error",
     "traceback": [
      "\u001b[1;31m---------------------------------------------------------------------------\u001b[0m",
      "\u001b[1;31mIndexError\u001b[0m                                Traceback (most recent call last)",
      "\u001b[1;32mc:\\Users\\peros\\OneDrive\\Documentos\\Henry\\Python-Prep\\04 - Estructuras de datos\\Prep_Course_Homework_04.ipynb Cell 31\u001b[0m in \u001b[0;36m<cell line: 3>\u001b[1;34m()\u001b[0m\n\u001b[0;32m      <a href='vscode-notebook-cell:/c%3A/Users/peros/OneDrive/Documentos/Henry/Python-Prep/04%20-%20Estructuras%20de%20datos/Prep_Course_Homework_04.ipynb#X42sZmlsZQ%3D%3D?line=1'>2</a>\u001b[0m p\u001b[39m=\u001b[39m\u001b[39mlen\u001b[39m(lista_larga)\n\u001b[0;32m      <a href='vscode-notebook-cell:/c%3A/Users/peros/OneDrive/Documentos/Henry/Python-Prep/04%20-%20Estructuras%20de%20datos/Prep_Course_Homework_04.ipynb#X42sZmlsZQ%3D%3D?line=2'>3</a>\u001b[0m \u001b[39mfor\u001b[39;00m n \u001b[39min\u001b[39;00m \u001b[39mrange\u001b[39m (\u001b[39m0\u001b[39m,p\u001b[39m+\u001b[39m\u001b[39m2\u001b[39m):\n\u001b[1;32m----> <a href='vscode-notebook-cell:/c%3A/Users/peros/OneDrive/Documentos/Henry/Python-Prep/04%20-%20Estructuras%20de%20datos/Prep_Course_Homework_04.ipynb#X42sZmlsZQ%3D%3D?line=3'>4</a>\u001b[0m     \u001b[39mwhile\u001b[39;00m n \u001b[39m==\u001b[39m lista_larga\u001b[39m.\u001b[39mindex(lista_larga[n]):\n\u001b[0;32m      <a href='vscode-notebook-cell:/c%3A/Users/peros/OneDrive/Documentos/Henry/Python-Prep/04%20-%20Estructuras%20de%20datos/Prep_Course_Homework_04.ipynb#X42sZmlsZQ%3D%3D?line=4'>5</a>\u001b[0m         \u001b[39mprint\u001b[39m(lista_larga[n], \u001b[39m'\u001b[39m\u001b[39mse repite \u001b[39m\u001b[39m'\u001b[39m, lista_larga\u001b[39m.\u001b[39mcount((lista_larga[n])))\n\u001b[0;32m      <a href='vscode-notebook-cell:/c%3A/Users/peros/OneDrive/Documentos/Henry/Python-Prep/04%20-%20Estructuras%20de%20datos/Prep_Course_Homework_04.ipynb#X42sZmlsZQ%3D%3D?line=5'>6</a>\u001b[0m         n\u001b[39m=\u001b[39mn\u001b[39m+\u001b[39m\u001b[39m1\u001b[39m\n",
      "\u001b[1;31mIndexError\u001b[0m: list index out of range"
     ]
    }
   ],
   "source": [
    "n=0\n",
    "p=len(lista_larga)\n",
    "for n in range (0,p+2):\n",
    "    while n == lista_larga.index(lista_larga[n]):\n",
    "        print(lista_larga[n], 'se repite ', lista_larga.count((lista_larga[n])))\n",
    "        n=n+1"
   ]
  },
  {
   "cell_type": "code",
   "execution_count": 15,
   "metadata": {},
   "outputs": [
    {
     "name": "stdout",
     "output_type": "stream",
     "text": [
      "Bariloche se repite  4\n",
      "Brucelas se repite  4\n",
      "Cordoba se repite  8\n",
      "Londres se repite  4\n",
      "Mendoza se repite  4\n",
      "Mexico se repite  4\n",
      "Neuquen se repite  4\n",
      "Paris se repite  4\n"
     ]
    }
   ],
   "source": [
    "n=0\n",
    "for n in range (len(lista_larga)):\n",
    "    while n == lista_larga.index(lista_larga[n]):\n",
    "        print(lista_larga[n], 'se repite ', lista_larga.count((lista_larga[n])))\n",
    "        n=n+1"
   ]
  },
  {
   "attachments": {},
   "cell_type": "markdown",
   "metadata": {},
   "source": [
    "16) Crear una tupla que contenga los números enteros del 1 al 20"
   ]
  },
  {
   "cell_type": "code",
   "execution_count": null,
   "metadata": {},
   "outputs": [
    {
     "name": "stdout",
     "output_type": "stream",
     "text": [
      "(1, 2, 3, 4, 5, 6, 7, 8, 9, 10, 11, 12, 13, 14, 15, 16, 17, 18, 19, 20)\n",
      "(2, 5, 9, 23, 43)\n"
     ]
    }
   ],
   "source": [
    "enteros=tuple(range(1,21))\n",
    "print(enteros)\n",
    "otros_enteros=(2,5,9,23,43)\n",
    "print(otros_enteros)"
   ]
  },
  {
   "attachments": {},
   "cell_type": "markdown",
   "metadata": {},
   "source": [
    "17) Imprimir desde el índice 10 al 15 de la tupla"
   ]
  },
  {
   "cell_type": "code",
   "execution_count": null,
   "metadata": {},
   "outputs": [
    {
     "name": "stdout",
     "output_type": "stream",
     "text": [
      "(11, 12, 13, 14, 15, 16)\n"
     ]
    }
   ],
   "source": [
    "print(enteros[10:16])"
   ]
  },
  {
   "attachments": {},
   "cell_type": "markdown",
   "metadata": {},
   "source": [
    "18) Evaluar si los números 20 y 30 están dentro de la tupla"
   ]
  },
  {
   "cell_type": "code",
   "execution_count": null,
   "metadata": {},
   "outputs": [
    {
     "name": "stdout",
     "output_type": "stream",
     "text": [
      "True\n",
      "False\n"
     ]
    }
   ],
   "source": [
    "print (20 in enteros)\n",
    "print (30 in enteros)"
   ]
  },
  {
   "attachments": {},
   "cell_type": "markdown",
   "metadata": {},
   "source": [
    "19) Con la lista creada en el punto 1, validar la existencia del elemento 'París' y si no existe, agregarlo. Utilizar una variable e informar lo sucedido."
   ]
  },
  {
   "cell_type": "code",
   "execution_count": null,
   "metadata": {},
   "outputs": [
    {
     "name": "stdout",
     "output_type": "stream",
     "text": [
      "True\n"
     ]
    }
   ],
   "source": [
    "print(\"Paris\" in ciudades)"
   ]
  },
  {
   "cell_type": "code",
   "execution_count": null,
   "metadata": {},
   "outputs": [
    {
     "name": "stdout",
     "output_type": "stream",
     "text": [
      "se agrego Malaga a la lista de cuidades\n"
     ]
    }
   ],
   "source": [
    "elemento='Malaga'\n",
    "if(elemento in ciudades):\n",
    "    print(elemento, 'ya existe')\n",
    "else:\n",
    "    ciudades.append(elemento)\n",
    "    print('se agrego', elemento, 'a la lista de cuidades')"
   ]
  },
  {
   "attachments": {},
   "cell_type": "markdown",
   "metadata": {},
   "source": [
    "20) Mostrar la cantidad de veces que se encuentra un elemento específico dentro de la tupla y de la lista"
   ]
  },
  {
   "cell_type": "code",
   "execution_count": null,
   "metadata": {},
   "outputs": [
    {
     "name": "stdout",
     "output_type": "stream",
     "text": [
      "1\n",
      "0\n"
     ]
    }
   ],
   "source": [
    "print (ciudades.count(\"Paris\"))\n",
    "print (ciudades.count(\"Baires\"))"
   ]
  },
  {
   "attachments": {},
   "cell_type": "markdown",
   "metadata": {},
   "source": [
    "21) Convertir la tupla en una lista"
   ]
  },
  {
   "cell_type": "code",
   "execution_count": null,
   "metadata": {},
   "outputs": [
    {
     "name": "stdout",
     "output_type": "stream",
     "text": [
      "(1, 2, 3, 4, 5, 6, 7, 8, 9, 10, 11, 12, 13, 14, 15, 16, 17, 18, 19, 20)\n",
      "[1, 2, 3, 4, 5, 6, 7, 8, 9, 10, 11, 12, 13, 14, 15, 16, 17, 18, 19, 20]\n"
     ]
    }
   ],
   "source": [
    "print(enteros)\n",
    "enteros_lista=list(enteros)\n",
    "print(enteros_lista)"
   ]
  },
  {
   "attachments": {},
   "cell_type": "markdown",
   "metadata": {},
   "source": [
    "22) Desempaquetar solo los primeros 3 elementos de la tupla en 3 variables"
   ]
  },
  {
   "cell_type": "code",
   "execution_count": null,
   "metadata": {},
   "outputs": [
    {
     "name": "stdout",
     "output_type": "stream",
     "text": [
      "1\n"
     ]
    }
   ],
   "source": [
    "var1,var2,var3, _, _, _, _, _, _, _, _, _, _, _, _, _, _, _, _, _ = enteros\n",
    "print(var1)"
   ]
  },
  {
   "attachments": {},
   "cell_type": "markdown",
   "metadata": {},
   "source": [
    "23) Crear un diccionario utilizando la lista crada en el punto 1, asignandole la clave \"ciudad\". Agregar tambien otras claves, como puede ser \"Pais\" y \"Continente\"."
   ]
  },
  {
   "cell_type": "code",
   "execution_count": 18,
   "metadata": {},
   "outputs": [
    {
     "name": "stdout",
     "output_type": "stream",
     "text": [
      "{'Cuidad': ['Paris', 'Cordoba', 'Londres', 'Mexico', 'Mendoza', 'Neuquen', 'Cordoba', 'Brucelas', 'Bariloche']}\n",
      "{'Cuidad': ['Paris', 'Cordoba', 'Londres', 'Mexico', 'Mendoza', 'Neuquen', 'Cordoba', 'Brucelas', 'Bariloche'], 'Pais': ['España', 'Argentina', 'Mexico'], 'Continente': ['Europa', 'America', 'America']}\n"
     ]
    }
   ],
   "source": [
    "dic = {\"Cuidad\" : ciudades} #el dic se puede crear asi, con su llave y contenido\n",
    "print(dic)\n",
    "\n",
    "dic['Pais']=['España', 'Argentina', 'Mexico'] #o asi, una ves que dic existe\n",
    "dic['Continente']=['Europa', 'America', 'America']\n",
    "print(dic)"
   ]
  },
  {
   "attachments": {},
   "cell_type": "markdown",
   "metadata": {},
   "source": [
    "24) Imprimir las claves del diccionario y los valores"
   ]
  },
  {
   "cell_type": "code",
   "execution_count": 19,
   "metadata": {},
   "outputs": [
    {
     "name": "stdout",
     "output_type": "stream",
     "text": [
      "dict_keys(['Cuidad', 'Pais', 'Continente'])\n",
      "dict_values([['Paris', 'Cordoba', 'Londres', 'Mexico', 'Mendoza', 'Neuquen', 'Cordoba', 'Brucelas', 'Bariloche'], ['España', 'Argentina', 'Mexico'], ['Europa', 'America', 'America']])\n"
     ]
    }
   ],
   "source": [
    "print(dic.keys())\n",
    "print(dic.values())"
   ]
  },
  {
   "attachments": {},
   "cell_type": "markdown",
   "metadata": {},
   "source": [
    "25) Imprimir las ciudades a través de su clave"
   ]
  },
  {
   "cell_type": "code",
   "execution_count": null,
   "metadata": {},
   "outputs": [
    {
     "name": "stdout",
     "output_type": "stream",
     "text": [
      "[['Paris', 'Cordoba', 'Madris', 'Mexico', 'Mendoza', 'Neuquen', 'Cordoba', 'Brucelas', 'Malaga']]\n"
     ]
    }
   ],
   "source": [
    "print(dic['Cuidad'])"
   ]
  },
  {
   "cell_type": "code",
   "execution_count": null,
   "metadata": {},
   "outputs": [],
   "source": [
    "def numeroCapicua(numero):\n",
    "    '''\n",
    "    En matemáticas, la palabra capicúa (del catalán cap i cua, 'cabeza y cola')​ \n",
    "    se refiere a cualquier número que se lee igual de izquierda a derecha que \n",
    "    de derecha a izquierda. Se denominan también números palíndromos.\n",
    "    Esta función devuelve el valor booleano True si el número es capicúa, de lo contrario\n",
    "    devuelve el valor booleano False \n",
    "    En caso de que el parámetro no sea de tipo entero, debe retornar nulo.\n",
    "    Recibe un argumento:\n",
    "        numero: Será el número sobre el que se evaluará si es capicúa o no lo es.\n",
    "    Ej:\n",
    "        NumeroCapicua(787) debe retornar True\n",
    "        NumeroCapicua(108) debe retornar False\n",
    "    '''\n",
    "    if (type(numero) != int):\n",
    "        return None\n",
    "    \n",
    "    numero=list(str(numero))\n",
    "\n",
    "    numero_invertido=[]\n",
    "    indice=len(numero)-1\n",
    "\n",
    "    while (indice>=0):\n",
    "        numero_invertido.append(numero[indice])\n",
    "        indice -= 1\n",
    "\n",
    "    capicua = True  \n",
    "    if (numero == numero_invertido):\n",
    "        capicua = True\n",
    "    else:\n",
    "        capicua = False\n",
    "        \n",
    "    return capicua"
   ]
  },
  {
   "cell_type": "code",
   "execution_count": null,
   "metadata": {},
   "outputs": [
    {
     "data": {
      "text/plain": [
       "False"
      ]
     },
     "execution_count": 55,
     "metadata": {},
     "output_type": "execute_result"
    }
   ],
   "source": [
    "numeroCapicua(124521)"
   ]
  },
  {
   "cell_type": "code",
   "execution_count": null,
   "metadata": {},
   "outputs": [],
   "source": [
    "    numero_lista=[]\n",
    "    for i in numero:\n",
    "        numero_lista.append(numero[i])\n",
    "    print(numero_lista)\n",
    "\n",
    "\n",
    "    numero = list(numero)\n",
    "    print(numero)\n",
    "\n",
    "    total_numeros=len(numero)\n",
    "    print(total_numeros)\n",
    "    print(numero[total_numeros])\n",
    "\n",
    "    numero_reverso = []\n",
    "    while (total_numeros>0):\n",
    "        numero_reverso.append(numero[total_numeros])\n",
    "        print (numero[total_numeros])\n",
    "        total_numeros -= 1\n",
    "    print(numero_reverso)"
   ]
  }
 ],
 "metadata": {
  "kernelspec": {
   "display_name": "Python 3",
   "language": "python",
   "name": "python3"
  },
  "language_info": {
   "codemirror_mode": {
    "name": "ipython",
    "version": 3
   },
   "file_extension": ".py",
   "mimetype": "text/x-python",
   "name": "python",
   "nbconvert_exporter": "python",
   "pygments_lexer": "ipython3",
   "version": "3.10.3"
  },
  "orig_nbformat": 4
 },
 "nbformat": 4,
 "nbformat_minor": 2
}
