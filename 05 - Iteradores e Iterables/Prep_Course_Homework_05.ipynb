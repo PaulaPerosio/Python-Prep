{
 "cells": [
  {
   "attachments": {},
   "cell_type": "markdown",
   "metadata": {},
   "source": [
    "1) A partir de una lista vacía, utilizar un ciclo while para cargar allí números negativos del -15 al -1"
   ]
  },
  {
   "cell_type": "code",
   "execution_count": 93,
   "metadata": {},
   "outputs": [
    {
     "name": "stdout",
     "output_type": "stream",
     "text": [
      "[-15, -14, -13, -12, -11, -10, -9, -8, -7, -6, -5, -4, -3, -2, -1]\n"
     ]
    }
   ],
   "source": [
    "listaa = []\n",
    "#con un ciclo while\n",
    "i = -15\n",
    "while (i<0):\n",
    "    listaa.append(i)\n",
    "    #print(i)\n",
    "    i += 1\n",
    "print(listaa)"
   ]
  },
  {
   "cell_type": "code",
   "execution_count": 94,
   "metadata": {},
   "outputs": [
    {
     "name": "stdout",
     "output_type": "stream",
     "text": [
      "[-15, -14, -13, -12, -11, -10, -9, -8, -7, -6, -5, -4, -3, -2, -1]\n"
     ]
    }
   ],
   "source": [
    "listaa=[]\n",
    "#con un ciclo for\n",
    "for i in range(-15,0):\n",
    "    listaa.append(i)\n",
    "print(listaa)"
   ]
  },
  {
   "attachments": {},
   "cell_type": "markdown",
   "metadata": {},
   "source": [
    "2) ¿Con un ciclo while sería posible recorrer la lista para imprimir sólo los números pares?"
   ]
  },
  {
   "cell_type": "code",
   "execution_count": 46,
   "metadata": {},
   "outputs": [
    {
     "name": "stdout",
     "output_type": "stream",
     "text": [
      "-14\n",
      "-12\n",
      "-10\n",
      "-8\n",
      "-6\n",
      "-4\n",
      "-2\n"
     ]
    }
   ],
   "source": [
    "i = 0\n",
    "while (i < len(listaa)):\n",
    "    if ((listaa[i]%2) == 0):\n",
    "        print(listaa[i])\n",
    "    i += 1"
   ]
  },
  {
   "cell_type": "code",
   "execution_count": 96,
   "metadata": {},
   "outputs": [
    {
     "name": "stdout",
     "output_type": "stream",
     "text": [
      "-2\n",
      "-4\n",
      "-6\n",
      "-8\n",
      "-10\n",
      "-12\n",
      "-14\n"
     ]
    }
   ],
   "source": [
    "n=len(listaa) -1\n",
    "while (n >= 0):\n",
    "    if ((listaa[n]%2) == 0):\n",
    "        print(listaa[n])\n",
    "    n-=1"
   ]
  },
  {
   "cell_type": "code",
   "execution_count": 95,
   "metadata": {},
   "outputs": [
    {
     "name": "stdout",
     "output_type": "stream",
     "text": [
      "15\n",
      "0 -15\n",
      "1 -14\n",
      "2 -13\n",
      "3 -12\n",
      "4 -11\n",
      "5 -10\n",
      "6 -9\n",
      "7 -8\n",
      "8 -7\n",
      "9 -6\n",
      "10 -5\n",
      "11 -4\n",
      "12 -3\n",
      "13 -2\n",
      "14 -1\n"
     ]
    }
   ],
   "source": [
    "print(len(listaa))\n",
    "for i, n in enumerate (listaa[:]):\n",
    "    print(i,n)"
   ]
  },
  {
   "attachments": {},
   "cell_type": "markdown",
   "metadata": {},
   "source": [
    "3) Resolver el punto anterior sin utilizar un ciclo while"
   ]
  },
  {
   "cell_type": "code",
   "execution_count": 47,
   "metadata": {},
   "outputs": [
    {
     "name": "stdout",
     "output_type": "stream",
     "text": [
      "-14\n",
      "-12\n",
      "-10\n",
      "-8\n",
      "-6\n",
      "-4\n",
      "-2\n"
     ]
    }
   ],
   "source": [
    "for elemento in listaa:\n",
    "    if ((elemento % 2) == 0):\n",
    "        print(elemento)"
   ]
  },
  {
   "cell_type": "code",
   "execution_count": 97,
   "metadata": {},
   "outputs": [
    {
     "name": "stdout",
     "output_type": "stream",
     "text": [
      "-14\n",
      "-12\n",
      "-10\n",
      "-8\n",
      "-6\n",
      "-4\n",
      "-2\n"
     ]
    }
   ],
   "source": [
    "for n in listaa:\n",
    "    if (n%2 == 0):\n",
    "        print(n)\n",
    "    n+=1"
   ]
  },
  {
   "attachments": {},
   "cell_type": "markdown",
   "metadata": {},
   "source": [
    "4) Utilizar el iterable para recorrer sólo los primeros 3 elementos"
   ]
  },
  {
   "cell_type": "code",
   "execution_count": 48,
   "metadata": {},
   "outputs": [
    {
     "name": "stdout",
     "output_type": "stream",
     "text": [
      "-15\n",
      "-14\n",
      "-13\n"
     ]
    }
   ],
   "source": [
    "for elemento in listaa [:3]:\n",
    "    print (elemento)"
   ]
  },
  {
   "attachments": {},
   "cell_type": "markdown",
   "metadata": {},
   "source": [
    "5) Utilizar la función **enumerate** para obtener dentro del iterable, tambien el índice al que corresponde el elemento"
   ]
  },
  {
   "cell_type": "code",
   "execution_count": 49,
   "metadata": {},
   "outputs": [
    {
     "name": "stdout",
     "output_type": "stream",
     "text": [
      "0 -15\n",
      "1 -14\n",
      "2 -13\n",
      "3 -12\n",
      "4 -11\n",
      "5 -10\n",
      "6 -9\n",
      "7 -8\n",
      "8 -7\n",
      "9 -6\n",
      "10 -5\n",
      "11 -4\n",
      "12 -3\n",
      "13 -2\n",
      "14 -1\n"
     ]
    }
   ],
   "source": [
    "for i, c in enumerate (listaa):\n",
    "    print (i,c)"
   ]
  },
  {
   "attachments": {},
   "cell_type": "markdown",
   "metadata": {},
   "source": [
    "6) Dada la siguiente lista de números enteros entre 1 y 20, crear un ciclo donde se completen los valores faltantes: lista = [1,2,5,7,8,10,13,14,15,17,20]"
   ]
  },
  {
   "cell_type": "code",
   "execution_count": 99,
   "metadata": {},
   "outputs": [
    {
     "name": "stdout",
     "output_type": "stream",
     "text": [
      "[1, 2, 5, 7, 8, 10, 13, 14, 15, 17, 20]\n",
      "[1, 2, 3, 4, 5, 6, 7, 8, 9, 10, 11, 12, 13, 14, 15, 16, 17, 18, 19, 20]\n"
     ]
    }
   ],
   "source": [
    "lista = [1,2,5,7,8,10,13,14,15,17,20]\n",
    "print(lista)\n",
    "\n",
    "for n in range (1,21):\n",
    "    if n in lista:\n",
    "        continue\n",
    "    else:\n",
    "        lista.append(n)\n",
    "        i+=1\n",
    "\n",
    "lista.sort()\n",
    "print(lista)"
   ]
  },
  {
   "cell_type": "code",
   "execution_count": 51,
   "metadata": {},
   "outputs": [
    {
     "name": "stdout",
     "output_type": "stream",
     "text": [
      "[1, 2, 5, 7, 8, 10, 13, 14, 15, 17, 20]\n",
      "[1, 2, 3, 4, 5, 6, 7, 8, 9, 10, 11, 12, 13, 14, 15, 16, 17, 18, 19, 20]\n"
     ]
    }
   ],
   "source": [
    "lista = [1,2,5,7,8,10,13,14,15,17,20]\n",
    "print(lista)\n",
    "n = 1\n",
    "while(n <= 20):\n",
    "    if (not(n in lista)):\n",
    "        lista.insert((n-1), n)\n",
    "    n += 1\n",
    "print(lista)"
   ]
  },
  {
   "attachments": {},
   "cell_type": "markdown",
   "metadata": {},
   "source": [
    "7) La sucesión de Fibonacci es un listado de números que sigue la fórmula: <br>\n",
    "n<sub>0</sub> = 0<br>\n",
    "n<sub>1</sub> = 1<br>\n",
    "n<sub>i</sub> = n<sub>i-1</sub> + n<sub>i-2</sub><br>\n",
    "Crear una lista con los primeros treinta números de la sucesión.<br>"
   ]
  },
  {
   "cell_type": "code",
   "execution_count": 52,
   "metadata": {},
   "outputs": [
    {
     "name": "stdout",
     "output_type": "stream",
     "text": [
      "[0, 1]\n",
      "[0, 1, 1, 2, 3, 5, 8, 13, 21, 34, 55, 89, 144, 233, 377, 610, 987, 1597, 2584, 4181, 6765, 10946, 17711, 28657, 46368, 75025, 121393, 196418, 317811, 514229]\n"
     ]
    },
    {
     "data": {
      "text/plain": [
       "30"
      ]
     },
     "execution_count": 52,
     "metadata": {},
     "output_type": "execute_result"
    }
   ],
   "source": [
    "fibo =[0,1]\n",
    "print(fibo)\n",
    "i=1\n",
    "while (i<29):\n",
    "    i += 1\n",
    "    fibo.append(fibo[i-1]+fibo[i-2])\n",
    "print(fibo)\n",
    "len(fibo)"
   ]
  },
  {
   "attachments": {},
   "cell_type": "markdown",
   "metadata": {},
   "source": [
    "8) Realizar la suma de todos elementos de la lista del punto anterior"
   ]
  },
  {
   "cell_type": "code",
   "execution_count": 53,
   "metadata": {},
   "outputs": [
    {
     "name": "stdout",
     "output_type": "stream",
     "text": [
      "1346268\n"
     ]
    }
   ],
   "source": [
    "print(sum(fibo))"
   ]
  },
  {
   "attachments": {},
   "cell_type": "markdown",
   "metadata": {},
   "source": [
    "9) La proporción aurea se expresa con una proporción matemática que nace el número irracional Phi= 1,618… que los griegos llamaron número áureo. El cuál se puede aproximar con la sucesión de Fibonacci. Con la lista del ejercicio anterior, imprimir el cociente de los últimos 5 pares de dos números contiguos:<br>\n",
    "Donde i es la cantidad total de elementos<br>\n",
    "n<sub>i-1</sub> / n<sub>i</sub><br>\n",
    "n<sub>i-2</sub> / n<sub>i-1</sub><br>\n",
    "n<sub>i-3</sub> / n<sub>i-2</sub><br>\n",
    "n<sub>i-4</sub> / n<sub>i-3</sub><br>\n",
    "n<sub>i-5</sub> / n<sub>i-4</sub><br>"
   ]
  },
  {
   "cell_type": "code",
   "execution_count": 54,
   "metadata": {},
   "outputs": [
    {
     "name": "stdout",
     "output_type": "stream",
     "text": [
      "indice 28 dividido indice 29\n",
      "0.6180339887482036\n",
      "indice 27 dividido indice 28\n",
      "0.6180339887543226\n",
      "indice 26 dividido indice 27\n",
      "0.618033988738303\n",
      "indice 25 dividido indice 26\n",
      "0.6180339887802427\n",
      "indice 24 dividido indice 25\n",
      "0.6180339886704432\n"
     ]
    }
   ],
   "source": [
    "i=30\n",
    "while(i>25):\n",
    "    i -= 1\n",
    "    print(\"indice\", i-1, \"dividido\", \"indice\", i)\n",
    "    print(fibo[i-1]/fibo[i])\n"
   ]
  },
  {
   "attachments": {},
   "cell_type": "markdown",
   "metadata": {},
   "source": [
    "10) A partir de la variable cadena ya dada, mostrar en qué posiciones aparece la letra \"n\"<br>\n",
    "cadena = 'Hola Mundo. Esto es una practica del lenguaje de programación Python'"
   ]
  },
  {
   "cell_type": "code",
   "execution_count": 55,
   "metadata": {},
   "outputs": [
    {
     "name": "stdout",
     "output_type": "stream",
     "text": [
      "7\n",
      "21\n",
      "39\n",
      "60\n",
      "67\n"
     ]
    }
   ],
   "source": [
    "cadena = 'Hola Mundo. Esto es una practica del lenguaje de programación Python'\n",
    "for i, c in enumerate (cadena):\n",
    "    if (c == \"n\"):\n",
    "        print (i)"
   ]
  },
  {
   "attachments": {},
   "cell_type": "markdown",
   "metadata": {},
   "source": [
    "11) Crear un diccionario e imprimir sus claves utilizando un iterador"
   ]
  },
  {
   "cell_type": "code",
   "execution_count": 56,
   "metadata": {},
   "outputs": [
    {
     "name": "stdout",
     "output_type": "stream",
     "text": [
      "uno\n",
      "dos\n",
      "tres\n"
     ]
    }
   ],
   "source": [
    "dic = { \"uno\" : [1,15,165], \"dos\" : [22,25,2], \"tres\" : [3,38,354]}\n",
    "for i in dic:\n",
    "    print(i)"
   ]
  },
  {
   "cell_type": "code",
   "execution_count": 100,
   "metadata": {},
   "outputs": [
    {
     "data": {
      "text/plain": [
       "dict_keys(['uno', 'dos', 'tres'])"
      ]
     },
     "execution_count": 100,
     "metadata": {},
     "output_type": "execute_result"
    }
   ],
   "source": [
    "dic.keys()"
   ]
  },
  {
   "cell_type": "code",
   "execution_count": 104,
   "metadata": {},
   "outputs": [
    {
     "ename": "TypeError",
     "evalue": "'list' object is not callable",
     "output_type": "error",
     "traceback": [
      "\u001b[1;31m---------------------------------------------------------------------------\u001b[0m",
      "\u001b[1;31mTypeError\u001b[0m                                 Traceback (most recent call last)",
      "\u001b[1;32mc:\\Users\\peros\\OneDrive\\Documentos\\Henry\\Python-Prep\\05 - Iteradores e Iterables\\Prep_Course_Homework_05.ipynb Cell 29\u001b[0m in \u001b[0;36m<cell line: 1>\u001b[1;34m()\u001b[0m\n\u001b[1;32m----> <a href='vscode-notebook-cell:/c%3A/Users/peros/OneDrive/Documentos/Henry/Python-Prep/05%20-%20Iteradores%20e%20Iterables/Prep_Course_Homework_05.ipynb#X62sZmlsZQ%3D%3D?line=0'>1</a>\u001b[0m \u001b[39mprint\u001b[39m(\u001b[39mlist\u001b[39;49m(dic\u001b[39m.\u001b[39;49mkeys()))\n",
      "\u001b[1;31mTypeError\u001b[0m: 'list' object is not callable"
     ]
    }
   ],
   "source": [
    "print(list(dic.keys()))"
   ]
  },
  {
   "attachments": {},
   "cell_type": "markdown",
   "metadata": {},
   "source": [
    "12) Convertir en una lista la variable \"cadena\" del punto 10 y luego recorrerla con un iterador "
   ]
  },
  {
   "cell_type": "code",
   "execution_count": 57,
   "metadata": {},
   "outputs": [
    {
     "name": "stdout",
     "output_type": "stream",
     "text": [
      "Hola Mundo. Esto es una practica del lenguaje de programación Python\n",
      "<class 'str'>\n"
     ]
    }
   ],
   "source": [
    "cadena = 'Hola Mundo. Esto es una practica del lenguaje de programación Python'\n",
    "print (cadena)\n",
    "print(type(cadena))"
   ]
  },
  {
   "cell_type": "code",
   "execution_count": 59,
   "metadata": {},
   "outputs": [
    {
     "ename": "TypeError",
     "evalue": "'list' object is not callable",
     "output_type": "error",
     "traceback": [
      "\u001b[1;31m---------------------------------------------------------------------------\u001b[0m",
      "\u001b[1;31mTypeError\u001b[0m                                 Traceback (most recent call last)",
      "\u001b[1;32mc:\\Users\\peros\\OneDrive\\Documentos\\Henry\\Python-Prep\\05 - Iteradores e Iterables\\Prep_Course_Homework_05.ipynb Cell 26\u001b[0m in \u001b[0;36m<cell line: 1>\u001b[1;34m()\u001b[0m\n\u001b[1;32m----> <a href='vscode-notebook-cell:/c%3A/Users/peros/OneDrive/Documentos/Henry/Python-Prep/05%20-%20Iteradores%20e%20Iterables/Prep_Course_Homework_05.ipynb#X40sZmlsZQ%3D%3D?line=0'>1</a>\u001b[0m cadena \u001b[39m=\u001b[39m \u001b[39mlist\u001b[39;49m(cadena)\n\u001b[0;32m      <a href='vscode-notebook-cell:/c%3A/Users/peros/OneDrive/Documentos/Henry/Python-Prep/05%20-%20Iteradores%20e%20Iterables/Prep_Course_Homework_05.ipynb#X40sZmlsZQ%3D%3D?line=1'>2</a>\u001b[0m \u001b[39mprint\u001b[39m (cadena)\n\u001b[0;32m      <a href='vscode-notebook-cell:/c%3A/Users/peros/OneDrive/Documentos/Henry/Python-Prep/05%20-%20Iteradores%20e%20Iterables/Prep_Course_Homework_05.ipynb#X40sZmlsZQ%3D%3D?line=2'>3</a>\u001b[0m \u001b[39mprint\u001b[39m(\u001b[39mtype\u001b[39m(cadena))\n",
      "\u001b[1;31mTypeError\u001b[0m: 'list' object is not callable"
     ]
    }
   ],
   "source": [
    "cadena = list(cadena)\n",
    "print (cadena)\n",
    "print(type(cadena))"
   ]
  },
  {
   "cell_type": "code",
   "execution_count": 60,
   "metadata": {},
   "outputs": [
    {
     "name": "stdout",
     "output_type": "stream",
     "text": [
      "H\n",
      "o\n",
      "l\n",
      "a\n",
      " \n",
      "M\n",
      "u\n",
      "n\n",
      "d\n",
      "o\n",
      ".\n",
      " \n",
      "E\n",
      "s\n",
      "t\n",
      "o\n",
      " \n",
      "e\n",
      "s\n",
      " \n",
      "u\n",
      "n\n",
      "a\n",
      " \n",
      "p\n",
      "r\n",
      "a\n",
      "c\n",
      "t\n",
      "i\n",
      "c\n",
      "a\n",
      " \n",
      "d\n",
      "e\n",
      "l\n",
      " \n",
      "l\n",
      "e\n",
      "n\n",
      "g\n",
      "u\n",
      "a\n",
      "j\n",
      "e\n",
      " \n",
      "d\n",
      "e\n",
      " \n",
      "p\n",
      "r\n",
      "o\n",
      "g\n",
      "r\n",
      "a\n",
      "m\n",
      "a\n",
      "c\n",
      "i\n",
      "ó\n",
      "n\n",
      " \n",
      "P\n",
      "y\n",
      "t\n",
      "h\n",
      "o\n",
      "n\n"
     ]
    }
   ],
   "source": [
    "for c in cadena:\n",
    "    print (c)"
   ]
  },
  {
   "cell_type": "code",
   "execution_count": 105,
   "metadata": {},
   "outputs": [
    {
     "name": "stdout",
     "output_type": "stream",
     "text": [
      "H\n",
      "o\n",
      "l\n",
      "a\n",
      " \n",
      "M\n",
      "u\n",
      "n\n",
      "d\n",
      "o\n",
      ".\n",
      " \n",
      "E\n",
      "s\n",
      "t\n",
      "o\n",
      " \n",
      "e\n",
      "s\n",
      " \n",
      "u\n",
      "n\n",
      "a\n",
      " \n",
      "p\n",
      "r\n",
      "a\n",
      "c\n",
      "t\n",
      "i\n",
      "c\n",
      "a\n",
      " \n",
      "d\n",
      "e\n",
      "l\n",
      " \n",
      "l\n",
      "e\n",
      "n\n",
      "g\n",
      "u\n",
      "a\n",
      "j\n",
      "e\n",
      " \n",
      "d\n",
      "e\n",
      " \n",
      "p\n",
      "r\n",
      "o\n",
      "g\n",
      "r\n",
      "a\n",
      "m\n",
      "a\n",
      "c\n",
      "i\n",
      "ó\n",
      "n\n",
      " \n",
      "P\n",
      "y\n",
      "t\n",
      "h\n",
      "o\n",
      "n\n"
     ]
    }
   ],
   "source": [
    "recorre = iter(cadena)\n",
    "largo = len(cadena)\n",
    "for i in range(0, largo):\n",
    "    print(next(recorre))"
   ]
  },
  {
   "attachments": {},
   "cell_type": "markdown",
   "metadata": {},
   "source": [
    "13) Crear dos listas y unirlas en una tupla utilizando la función zip"
   ]
  },
  {
   "cell_type": "code",
   "execution_count": 66,
   "metadata": {},
   "outputs": [],
   "source": [
    "a = [21,44,56]\n",
    "b = [\"h\",\"f\",\"e\"]\n",
    "\n",
    "c = zip(a,b)"
   ]
  },
  {
   "cell_type": "code",
   "execution_count": 69,
   "metadata": {},
   "outputs": [
    {
     "data": {
      "text/plain": [
       "zip"
      ]
     },
     "execution_count": 69,
     "metadata": {},
     "output_type": "execute_result"
    }
   ],
   "source": [
    "type(c)"
   ]
  },
  {
   "cell_type": "code",
   "execution_count": 68,
   "metadata": {},
   "outputs": [
    {
     "ename": "TypeError",
     "evalue": "'list' object is not callable",
     "output_type": "error",
     "traceback": [
      "\u001b[1;31m---------------------------------------------------------------------------\u001b[0m",
      "\u001b[1;31mTypeError\u001b[0m                                 Traceback (most recent call last)",
      "\u001b[1;32mc:\\Users\\peros\\OneDrive\\Documentos\\Henry\\Python-Prep\\05 - Iteradores e Iterables\\Prep_Course_Homework_05.ipynb Cell 30\u001b[0m in \u001b[0;36m<cell line: 1>\u001b[1;34m()\u001b[0m\n\u001b[1;32m----> <a href='vscode-notebook-cell:/c%3A/Users/peros/OneDrive/Documentos/Henry/Python-Prep/05%20-%20Iteradores%20e%20Iterables/Prep_Course_Homework_05.ipynb#X44sZmlsZQ%3D%3D?line=0'>1</a>\u001b[0m \u001b[39mprint\u001b[39m(\u001b[39mlist\u001b[39;49m(c))\n",
      "\u001b[1;31mTypeError\u001b[0m: 'list' object is not callable"
     ]
    }
   ],
   "source": [
    "print(list(c))"
   ]
  },
  {
   "attachments": {},
   "cell_type": "markdown",
   "metadata": {},
   "source": [
    "14) A partir de la siguiente lista de números, crear una nueva sólo si el número es divisible por 7<br>\n",
    "lis = [18,21,29,32,35,42,56,60,63,71,84,90,91,100]"
   ]
  },
  {
   "cell_type": "code",
   "execution_count": 70,
   "metadata": {},
   "outputs": [
    {
     "name": "stdout",
     "output_type": "stream",
     "text": [
      "[21, 35, 42, 56, 63, 84, 91]\n"
     ]
    }
   ],
   "source": [
    "lis = [18,21,29,32,35,42,56,60,63,71,84,90,91,100]\n",
    "nueva =[]\n",
    "i = 0\n",
    "while (i < len(lis)):\n",
    "    if ((lis[i]%7) == 0):\n",
    "        nueva.append(lis[i])\n",
    "    i += 1\n",
    "print(nueva)"
   ]
  },
  {
   "cell_type": "code",
   "execution_count": 71,
   "metadata": {},
   "outputs": [
    {
     "name": "stdout",
     "output_type": "stream",
     "text": [
      "[21, 35, 42, 56, 63, 84, 91]\n"
     ]
    }
   ],
   "source": [
    "lis = [18,21,29,32,35,42,56,60,63,71,84,90,91,100]\n",
    "nueva = [i for i in lis if i % 7 == 0]\n",
    "print(nueva)"
   ]
  },
  {
   "attachments": {},
   "cell_type": "markdown",
   "metadata": {},
   "source": [
    "15) A partir de la lista de a continuación, contar la cantidad total de elementos que contiene, teniendo en cuenta que un elemento de la lista podría ser otra lista:<br>\n",
    "lis = [[1,2,3,4],'rojo','verde',[True,False,False],['uno','dos','tres']]"
   ]
  },
  {
   "cell_type": "code",
   "execution_count": 92,
   "metadata": {},
   "outputs": [
    {
     "name": "stdout",
     "output_type": "stream",
     "text": [
      "5\n",
      "<class 'list'>\n",
      "5\n"
     ]
    }
   ],
   "source": [
    "lis = [[1,2,3,4],'rojo','verde',[True,False,False],['uno','dos','tres']]\n",
    "\n",
    "print(len(lis))\n",
    "print(type(lis))\n",
    "\n",
    "total=0\n",
    "\n",
    "for elemento in lis:\n",
    "    if (type(elemento) == list):\n",
    "        total += len(elemento)\n",
    "    else:\n",
    "        total += 1    \n",
    "print(total)"
   ]
  }
 ],
 "metadata": {
  "kernelspec": {
   "display_name": "Python 3",
   "language": "python",
   "name": "python3"
  },
  "language_info": {
   "codemirror_mode": {
    "name": "ipython",
    "version": 3
   },
   "file_extension": ".py",
   "mimetype": "text/x-python",
   "name": "python",
   "nbconvert_exporter": "python",
   "pygments_lexer": "ipython3",
   "version": "3.10.3"
  },
  "orig_nbformat": 4
 },
 "nbformat": 4,
 "nbformat_minor": 2
}
