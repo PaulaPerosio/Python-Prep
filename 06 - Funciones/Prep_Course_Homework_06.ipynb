{
 "cells": [
  {
   "attachments": {},
   "cell_type": "markdown",
   "metadata": {},
   "source": [
    "1) Crear una función que reciba un número como parámetro y devuelva si True si es primo y False si no lo es"
   ]
  },
  {
   "cell_type": "code",
   "execution_count": 1,
   "metadata": {},
   "outputs": [],
   "source": [
    "def primo (numero):\n",
    "    for i in range (2,numero):\n",
    "        if (numero % i == 0):\n",
    "            return False\n",
    "        else:\n",
    "            return True"
   ]
  },
  {
   "cell_type": "code",
   "execution_count": 3,
   "metadata": {},
   "outputs": [
    {
     "data": {
      "text/plain": [
       "False"
      ]
     },
     "execution_count": 3,
     "metadata": {},
     "output_type": "execute_result"
    }
   ],
   "source": [
    "primo (10)"
   ]
  },
  {
   "cell_type": "code",
   "execution_count": 7,
   "metadata": {},
   "outputs": [],
   "source": [
    "def primo (numero):\n",
    "    es_primo = True\n",
    "    for i in range (2, numero):\n",
    "        if (numero % i == 0):\n",
    "            es_primo = False\n",
    "            break\n",
    "    return es_primo"
   ]
  },
  {
   "cell_type": "code",
   "execution_count": 9,
   "metadata": {},
   "outputs": [
    {
     "data": {
      "text/plain": [
       "False"
      ]
     },
     "execution_count": 9,
     "metadata": {},
     "output_type": "execute_result"
    }
   ],
   "source": [
    "primo (4)"
   ]
  },
  {
   "attachments": {},
   "cell_type": "markdown",
   "metadata": {},
   "source": [
    "2) Utilizando la función del punto 1, realizar otra función que reciba de parámetro una lista de números y devuelva sólo aquellos que son primos en otra lista"
   ]
  },
  {
   "cell_type": "code",
   "execution_count": 12,
   "metadata": {},
   "outputs": [],
   "source": [
    "def lista_primos (lista):\n",
    "    lista_nueva=[]\n",
    "    for elemento in lista:\n",
    "        if (primo(elemento) == True):\n",
    "            lista_nueva.append(elemento)\n",
    "    return (lista_nueva)"
   ]
  },
  {
   "cell_type": "code",
   "execution_count": 13,
   "metadata": {},
   "outputs": [
    {
     "data": {
      "text/plain": [
       "[2, 11, 7]"
      ]
     },
     "execution_count": 13,
     "metadata": {},
     "output_type": "execute_result"
    }
   ],
   "source": [
    "lista_primos ([2,11,7,12])"
   ]
  },
  {
   "attachments": {},
   "cell_type": "markdown",
   "metadata": {},
   "source": [
    "3) Crear una función que al recibir una lista de números, devuelva el que más se repite y cuántas veces lo hace. Si hay más de un \"más repetido\", que devuelva cualquiera"
   ]
  },
  {
   "cell_type": "code",
   "execution_count": 111,
   "metadata": {},
   "outputs": [],
   "source": [
    "def valor_modal(lista):\n",
    "    lista_unicos = []\n",
    "    lista_repeticiones = []\n",
    "    if len(lista) == 0: #me aseguro de tener una lista con numeros\n",
    "        return None\n",
    "    for elemento in lista: #armo una lista de numeros y otra de las repeticiones\n",
    "        if elemento in lista_unicos:\n",
    "            i = lista_unicos.index(elemento)\n",
    "            lista_repeticiones[i] += 1\n",
    "        else:\n",
    "            lista_unicos.append(elemento)\n",
    "            lista_repeticiones.append(1)\n",
    "    moda = lista_unicos[0]\n",
    "    maximo = lista_repeticiones[0]\n",
    "    for i, elemento in enumerate(lista_unicos): #determino el numero que se repite mas veces\n",
    "        if lista_repeticiones[i] > maximo:\n",
    "            moda = lista_unicos[i]\n",
    "            maximo = lista_repeticiones[i]\n",
    "    return moda, maximo"
   ]
  },
  {
   "cell_type": "code",
   "execution_count": 122,
   "metadata": {},
   "outputs": [
    {
     "data": {
      "text/plain": [
       "(4, 8)"
      ]
     },
     "execution_count": 122,
     "metadata": {},
     "output_type": "execute_result"
    }
   ],
   "source": [
    "valor_modal ([4,6,2,3,4,4,6,4,5,6,6,6,6,4,4,4,4,6])"
   ]
  },
  {
   "cell_type": "code",
   "execution_count": 123,
   "metadata": {},
   "outputs": [],
   "source": [
    "def repetido (lista): #la mejor para mi\n",
    "    lista_numeros=[]\n",
    "    lista_repeticiones=[]\n",
    "    i=0\n",
    "    maximo=0\n",
    "    numero = 0\n",
    "    if len(lista) == 0: #me aseguro de tener una lista con numeros\n",
    "        return None\n",
    "    for n in range (0,len(lista)): #armo una lista de numeros y otra de las repeticiones\n",
    "            lista_numeros.append (lista[n])\n",
    "            lista_repeticiones.append (lista.count((lista[n])))\n",
    "\n",
    "    numero = lista_numeros[0]\n",
    "    maximo = lista_repeticiones[0]\n",
    "    for i, elemento in enumerate(lista_numeros): #determino el numero que se repite mas veces\n",
    "        if lista_repeticiones[i] > maximo:\n",
    "            numero = lista_numeros[i]\n",
    "            maximo = lista_repeticiones[i]\n",
    "\n",
    "    return print(\"el numero\", numero, \"se repite\", maximo, \"veces\")"
   ]
  },
  {
   "cell_type": "code",
   "execution_count": 121,
   "metadata": {},
   "outputs": [
    {
     "name": "stdout",
     "output_type": "stream",
     "text": [
      "el numero 4 se repite 8 veces\n"
     ]
    }
   ],
   "source": [
    "repetido ([4,6,2,3,4,4,6,4,5,6,6,6,6,4,4,4,4,6])"
   ]
  },
  {
   "cell_type": "code",
   "execution_count": 115,
   "metadata": {},
   "outputs": [],
   "source": [
    "def repetido (lista):\n",
    "    lista_numeros=[]\n",
    "    lista_repeticiones=[]\n",
    "    i=0\n",
    "    maximo=0\n",
    "    numero = 0\n",
    "    for n in range (0,len(lista)): #armo una lista de numeros y otra de las repeticiones\n",
    "            lista_numeros.append (lista[n])\n",
    "            lista_repeticiones.append (lista.count((lista[n])))\n",
    "\n",
    "    for n in range (0,len(lista)): #determino el numero que se repite mas veces\n",
    "        if (lista_repeticiones[i] <= lista_repeticiones[i+1]):\n",
    "            maximo = lista_repeticiones[i+1]\n",
    "            numero = lista_numeros [i+1]\n",
    "            i += 1\n",
    "        else:\n",
    "            maximo = lista_repeticiones[i]\n",
    "            numero = lista_numeros [i]\n",
    "    return print(\"el numero\", numero, \"se repite\", maximo, \"veces\")\n"
   ]
  },
  {
   "cell_type": "code",
   "execution_count": 120,
   "metadata": {},
   "outputs": [
    {
     "name": "stdout",
     "output_type": "stream",
     "text": [
      "el numero 4 se repite 8 veces\n"
     ]
    }
   ],
   "source": [
    "repetido ([4,6,2,3,4,4,6,4,5,6,6,6,6,4,4,4,4,6])"
   ]
  },
  {
   "cell_type": "code",
   "execution_count": 107,
   "metadata": {},
   "outputs": [],
   "source": [
    "def cuanto_se_repite (lista):\n",
    "    for n in range (0,len(lista)):\n",
    "            print(lista[n], 'se repite ', lista.count((lista[n])))"
   ]
  },
  {
   "cell_type": "code",
   "execution_count": 108,
   "metadata": {},
   "outputs": [
    {
     "name": "stdout",
     "output_type": "stream",
     "text": [
      "2 se repite  1\n",
      "3 se repite  1\n",
      "4 se repite  3\n",
      "4 se repite  3\n",
      "4 se repite  3\n",
      "5 se repite  1\n",
      "6 se repite  2\n",
      "6 se repite  2\n"
     ]
    }
   ],
   "source": [
    "cuanto_se_repite ([2,3,4,4,4,5,6,6])"
   ]
  },
  {
   "cell_type": "code",
   "execution_count": 109,
   "metadata": {},
   "outputs": [],
   "source": [
    "def maxima_repeticion (lista):\n",
    "    lista_repetidos=[]\n",
    "    for elemento in range (0,len(lista)):\n",
    "        lista_repetidos.append (lista.count(lista[elemento]))\n",
    "\n",
    "    return max(lista_repetidos)"
   ]
  },
  {
   "cell_type": "code",
   "execution_count": 110,
   "metadata": {},
   "outputs": [
    {
     "data": {
      "text/plain": [
       "3"
      ]
     },
     "execution_count": 110,
     "metadata": {},
     "output_type": "execute_result"
    }
   ],
   "source": [
    "maxima_repeticion ([2,3,4,4,4,5,6,6])"
   ]
  },
  {
   "attachments": {},
   "cell_type": "markdown",
   "metadata": {},
   "source": [
    "4) A la función del punto 3, agregar un parámetro más, que permita elegir si se requiere el menor o el mayor de los mas repetidos."
   ]
  },
  {
   "cell_type": "code",
   "execution_count": 180,
   "metadata": {},
   "outputs": [],
   "source": [
    "def repetido_elegido (lista,menor=True): #la mejor para mi\n",
    "    lista_numeros=[]\n",
    "    lista_repeticiones=[]\n",
    "    i=0\n",
    "    maximo=0\n",
    "    numero = 0\n",
    "    if len(lista) == 0: #me aseguro de tener una lista con numeros\n",
    "        return None\n",
    "    \n",
    "    if (menor): #ordeno la lista de menor a mayor o al reves segun que piden\n",
    "        lista.sort()\n",
    "    else:\n",
    "        lista.sort(reverse=True)\n",
    "\n",
    "    for n in range (0,len(lista)): #armo una lista de numeros y otra de las repeticiones\n",
    "            lista_numeros.append (lista[n])\n",
    "            lista_repeticiones.append (lista.count((lista[n])))\n",
    "\n",
    "    numero = lista_numeros[0]\n",
    "    maximo = lista_repeticiones[0]\n",
    "    for i, elemento in enumerate(lista_numeros): #determino el numero que se repite mas veces\n",
    "        if lista_repeticiones[i] > maximo:\n",
    "            numero = lista_numeros[i]\n",
    "            maximo = lista_repeticiones[i]\n",
    "\n",
    "    return numero, maximo"
   ]
  },
  {
   "cell_type": "code",
   "execution_count": 184,
   "metadata": {},
   "outputs": [
    {
     "data": {
      "text/plain": [
       "(6, 8)"
      ]
     },
     "execution_count": 184,
     "metadata": {},
     "output_type": "execute_result"
    }
   ],
   "source": [
    "repetido_elegido ([4,6,2,3,4,4,6,4,5,6,6,6,6,4,4,4,4,6,6],False)"
   ]
  },
  {
   "cell_type": "code",
   "execution_count": 133,
   "metadata": {},
   "outputs": [
    {
     "name": "stdout",
     "output_type": "stream",
     "text": [
      "el numero 4 se repite 8 veces\n"
     ]
    }
   ],
   "source": [
    "lis = [4,6,2,3,4,4,6,4,5,6,6,6,6,4,4,4,4,6,6]\n",
    "numero, maximo = repetido_elegido(lis, True)\n",
    "print(\"el numero\", numero, \"se repite\", maximo, \"veces\")"
   ]
  },
  {
   "cell_type": "code",
   "execution_count": 134,
   "metadata": {},
   "outputs": [
    {
     "name": "stdout",
     "output_type": "stream",
     "text": [
      "el numero 6 se repite 8 veces\n"
     ]
    }
   ],
   "source": [
    "lis = [4,6,2,3,4,4,6,4,5,6,6,6,6,4,4,4,4,6,6]\n",
    "numero, maximo = repetido_elegido(lis, False)\n",
    "print(\"el numero\", numero, \"se repite\", maximo, \"veces\")"
   ]
  },
  {
   "attachments": {},
   "cell_type": "markdown",
   "metadata": {},
   "source": [
    "5) Crear una función que convierta entre grados Celsius, Farenheit y Kelvin<br>\n",
    "Fórmula 1\t: (°C × 9/5) + 32 = °F<br>\n",
    "Fórmula 2\t: °C + 273.15 = °K<br>\n",
    "Debe recibir 3 parámetros: el valor, la medida de orígen y la medida de destino"
   ]
  },
  {
   "cell_type": "code",
   "execution_count": 185,
   "metadata": {},
   "outputs": [],
   "source": [
    "def convertidor (numero,origen,destino):\n",
    "    if (origen==\"C\"):\n",
    "        if (destino==\"F\"):\n",
    "            valor_destino = numero * 9/5 + 32\n",
    "        elif (destino==\"K\"):\n",
    "            valor_destino = numero + 273.15\n",
    "        elif (destino==\"C\"):\n",
    "            valor_destino = numero + 273\n",
    "        else:\n",
    "            return \"No se comprende el destino especificado\"\n",
    "    elif (origen==\"F\"):\n",
    "        if (destino==\"C\"):\n",
    "            valor_destino = numero \n",
    "        elif (destino==\"K\"):\n",
    "            valor_destino = numero \n",
    "        elif (destino==\"F\"):\n",
    "            valor_destino = numero + 273.15\n",
    "        else:\n",
    "            return \"No se comprende el destino especificado\"\n",
    "    elif (origen==\"K\"):\n",
    "        if (destino==\"F\"):\n",
    "            valor_destino = numero \n",
    "        elif (destino==\"C\"):\n",
    "            valor_destino = numero \n",
    "        elif (destino==\"K\"):\n",
    "            valor_destino = numero + 273.15\n",
    "        else:\n",
    "            return \"No se comprende el destino especificado\"\n",
    "    else:\n",
    "        return \"No se comprende el origen especificado\"\n",
    "    return valor_destino"
   ]
  },
  {
   "cell_type": "code",
   "execution_count": 189,
   "metadata": {},
   "outputs": [
    {
     "data": {
      "text/plain": [
       "111.2"
      ]
     },
     "execution_count": 189,
     "metadata": {},
     "output_type": "execute_result"
    }
   ],
   "source": [
    "convertidor (44,\"C\",\"F\")"
   ]
  },
  {
   "attachments": {},
   "cell_type": "markdown",
   "metadata": {},
   "source": [
    "6) Iterando una lista con los tres valores posibles de temperatura que recibe la función del punto 5, hacer un print para cada combinación de los mismos:"
   ]
  },
  {
   "cell_type": "code",
   "execution_count": 144,
   "metadata": {},
   "outputs": [
    {
     "name": "stdout",
     "output_type": "stream",
     "text": [
      "1 grado  C en C 274\n",
      "1 grado  C en F 33.8\n",
      "1 grado  C en K 274.15\n",
      "1 grado  F en C 1\n",
      "1 grado  F en F 274.15\n",
      "1 grado  F en K 1\n",
      "1 grado  K en C 1\n",
      "1 grado  K en F 1\n",
      "1 grado  K en K 274.15\n"
     ]
    }
   ],
   "source": [
    "unidades = [\"C\",\"F\",\"K\"]\n",
    "\n",
    "for i in range (0,3):\n",
    "    for c in range (0,3):\n",
    "        print (\"1 grado \",unidades[i], \"en\", unidades[c], convertidor (1,unidades[i],unidades[c]))\n"
   ]
  },
  {
   "attachments": {},
   "cell_type": "markdown",
   "metadata": {},
   "source": [
    "7) Armar una función que devuelva el factorial de un número. Tener en cuenta que el usuario puede equivocarse y enviar de parámetro un número no entero o negativo"
   ]
  },
  {
   "cell_type": "code",
   "execution_count": 190,
   "metadata": {},
   "outputs": [],
   "source": [
    "def factorial(numero):\n",
    "    if(type(numero) != int):\n",
    "        return 'El numero debe ser un entero'\n",
    "    elif(numero < 0):\n",
    "        return 'El numero debe ser pisitivo'\n",
    "    elif(numero > 1):\n",
    "        numero = numero * factorial(numero - 1)\n",
    "    return numero"
   ]
  },
  {
   "cell_type": "code",
   "execution_count": 191,
   "metadata": {},
   "outputs": [
    {
     "data": {
      "text/plain": [
       "720"
      ]
     },
     "execution_count": 191,
     "metadata": {},
     "output_type": "execute_result"
    }
   ],
   "source": [
    "factorial (6)"
   ]
  }
 ],
 "metadata": {
  "kernelspec": {
   "display_name": "Python 3",
   "language": "python",
   "name": "python3"
  },
  "language_info": {
   "codemirror_mode": {
    "name": "ipython",
    "version": 3
   },
   "file_extension": ".py",
   "mimetype": "text/x-python",
   "name": "python",
   "nbconvert_exporter": "python",
   "pygments_lexer": "ipython3",
   "version": "3.10.3"
  },
  "orig_nbformat": 4
 },
 "nbformat": 4,
 "nbformat_minor": 2
}
